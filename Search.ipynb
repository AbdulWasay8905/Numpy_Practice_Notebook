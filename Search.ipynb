{
 "cells": [
  {
   "cell_type": "markdown",
   "id": "87805d31-f61b-41b8-bbbc-c40ad2a1013c",
   "metadata": {},
   "source": [
    "# Search"
   ]
  },
  {
   "cell_type": "code",
   "execution_count": 6,
   "id": "7e704c08-f239-4c2f-b51d-17be41a75342",
   "metadata": {},
   "outputs": [
    {
     "name": "stdout",
     "output_type": "stream",
     "text": [
      "(array([1, 3, 5, 6, 7], dtype=int64),)\n"
     ]
    }
   ],
   "source": [
    "import numpy as np\n",
    "arr=np.array([1,2,3,4,5,2,56,2])\n",
    "\n",
    "x=np.where(arr%2==0)\n",
    "print(x)\n"
   ]
  },
  {
   "cell_type": "markdown",
   "id": "fd9f1e28-91a7-4b06-9ff2-e54af5672daa",
   "metadata": {},
   "source": [
    "# search sort"
   ]
  },
  {
   "cell_type": "code",
   "execution_count": 16,
   "id": "079c9d6b-5372-40d8-a892-2f2953c46ecd",
   "metadata": {},
   "outputs": [
    {
     "name": "stdout",
     "output_type": "stream",
     "text": [
      "[5 6 7]\n"
     ]
    }
   ],
   "source": [
    "arr=np.array([1,2,3,4,5,7,8,9,10])\n",
    "x1=np.searchsorted(arr,[6,7,8],side=\"right\")\n",
    "print(x1)"
   ]
  },
  {
   "cell_type": "markdown",
   "id": "9cf217e8-230a-47d7-9f9d-66b32d532048",
   "metadata": {},
   "source": [
    "# sort"
   ]
  },
  {
   "cell_type": "code",
   "execution_count": 22,
   "id": "22dc301f-c13e-4483-a74a-bcb67330709d",
   "metadata": {},
   "outputs": [
    {
     "name": "stdout",
     "output_type": "stream",
     "text": [
      "[ 1  1  1  2  2  3  4  5  6  8 11 65 67 77]\n"
     ]
    }
   ],
   "source": [
    "arr=([3,4,2,5,6,8,1,11,1,65,67,77,2,1])\n",
    "\n",
    "print(np.sort(arr))"
   ]
  },
  {
   "cell_type": "code",
   "execution_count": 29,
   "id": "e9f5c69b-2ce4-4f51-aaa4-da0e00d3f299",
   "metadata": {},
   "outputs": [
    {
     "name": "stdout",
     "output_type": "stream",
     "text": [
      "['a' 'b' 'd' 'f']\n"
     ]
    }
   ],
   "source": [
    "arr=np.array(['a','f','b','d'])\n",
    "print(np.sort(arr))"
   ]
  },
  {
   "cell_type": "code",
   "execution_count": 31,
   "id": "93a0039a-9b8c-43b9-9780-4dc70262899f",
   "metadata": {},
   "outputs": [
    {
     "name": "stdout",
     "output_type": "stream",
     "text": [
      "[[ 3  5 12 32]\n",
      " [ 1  3 44 56]]\n"
     ]
    }
   ],
   "source": [
    "arr2=([[5,3,12,32],[56,44,3,1]])\n",
    "print(np.sort(arr2))"
   ]
  },
  {
   "cell_type": "markdown",
   "id": "e6b17532-ce54-4633-85d5-b865b539a2d4",
   "metadata": {},
   "source": [
    "# filter array"
   ]
  },
  {
   "cell_type": "code",
   "execution_count": 35,
   "id": "bf81d9e8-3d37-4097-8075-f9b7ec115e85",
   "metadata": {},
   "outputs": [
    {
     "name": "stdout",
     "output_type": "stream",
     "text": [
      "['a' 'b' 'd' 'f']\n",
      "\n",
      "['a' 'd']\n",
      "<class 'numpy.ndarray'>\n"
     ]
    }
   ],
   "source": [
    "arr=np.array(['a','f','b','d'])\n",
    "f=[True,False,False,True]\n",
    "arr_new=arr[f]\n",
    "print(np.sort(arr))\n",
    "print()\n",
    "print(arr_new)\n",
    "print(type(arr_new))"
   ]
  },
  {
   "cell_type": "code",
   "execution_count": null,
   "id": "914767b8-f403-483d-abb9-b4fbc32c4672",
   "metadata": {},
   "outputs": [],
   "source": []
  }
 ],
 "metadata": {
  "kernelspec": {
   "display_name": "Python 3 (ipykernel)",
   "language": "python",
   "name": "python3"
  },
  "language_info": {
   "codemirror_mode": {
    "name": "ipython",
    "version": 3
   },
   "file_extension": ".py",
   "mimetype": "text/x-python",
   "name": "python",
   "nbconvert_exporter": "python",
   "pygments_lexer": "ipython3",
   "version": "3.12.7"
  }
 },
 "nbformat": 4,
 "nbformat_minor": 5
}
