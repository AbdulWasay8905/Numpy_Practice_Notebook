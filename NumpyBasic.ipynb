{
 "cells": [
  {
   "cell_type": "markdown",
   "id": "dc257f45-1a6b-4d77-afba-96f80a3c3294",
   "metadata": {},
   "source": [
    "Array"
   ]
  },
  {
   "cell_type": "code",
   "execution_count": 5,
   "id": "3c7cc65b-307c-4b99-a875-261d8ba207e5",
   "metadata": {},
   "outputs": [
    {
     "name": "stdout",
     "output_type": "stream",
     "text": [
      "[1 2 3 4 5]\n",
      "1\n"
     ]
    }
   ],
   "source": [
    "import numpy  as np\n",
    "\n",
    "x=[1,2,3,4,5]\n",
    "y=np.array(x)\n",
    "print(y)\n",
    "print(y.ndim)\n"
   ]
  },
  {
   "cell_type": "code",
   "execution_count": 7,
   "id": "2a9181cc-435a-4739-8259-90c5e2a09c63",
   "metadata": {},
   "outputs": [
    {
     "name": "stdin",
     "output_type": "stream",
     "text": [
      "Enter number :  1\n",
      "Enter number :  2\n",
      "Enter number :  3\n",
      "Enter number :  4\n"
     ]
    },
    {
     "name": "stdout",
     "output_type": "stream",
     "text": [
      "[1 2 3 4]\n"
     ]
    }
   ],
   "source": [
    "l=[]\n",
    "\n",
    "for i in range(1,5):\n",
    "    num=int(input(\"Enter number : \"))\n",
    "    l.append(num)\n",
    "print(np.array(l))\n",
    "\n"
   ]
  },
  {
   "cell_type": "code",
   "execution_count": 9,
   "id": "55df3a7c-a425-4634-ad9c-fc569ae35bbd",
   "metadata": {},
   "outputs": [
    {
     "name": "stdout",
     "output_type": "stream",
     "text": [
      "[[1 2 3 4]\n",
      " [5 6 7 8]]\n",
      "The dimension of the array is : 2\n"
     ]
    }
   ],
   "source": [
    "arr2=np.array([[1,2,3,4],[5,6,7,8]])\n",
    "\n",
    "print(arr2)\n",
    "print(f\"The dimension of the array is : {arr2.ndim}\")\n"
   ]
  },
  {
   "cell_type": "code",
   "execution_count": 11,
   "id": "9e220a29-4130-4f60-b71d-a1b7f5c0a0b2",
   "metadata": {},
   "outputs": [
    {
     "name": "stdout",
     "output_type": "stream",
     "text": [
      "[[[1 2 3]\n",
      "  [4 5 6]\n",
      "  [7 8 9]]]\n",
      "The dimension of the array is : 2\n"
     ]
    }
   ],
   "source": [
    "arr3=np.array([[[1,2,3],[4,5,6],[7,8,9]]])\n",
    "print(arr3)\n",
    "print(f\"The dimension of the array is : {arr2.ndim}\")\n",
    "\n"
   ]
  },
  {
   "cell_type": "code",
   "execution_count": 13,
   "id": "513504ac-1809-4247-9b67-9735cd618e2d",
   "metadata": {},
   "outputs": [
    {
     "name": "stdout",
     "output_type": "stream",
     "text": [
      "[[[[[[[[[[1 2 3 4 5]]]]]]]]]]\n",
      "The dimension of the array is : 10\n"
     ]
    }
   ],
   "source": [
    "arn=np.array([1,2,3,4,5],ndmin=10)\n",
    "print(arn)\n",
    "print(f\"The dimension of the array is : {arn.ndim}\")\n"
   ]
  },
  {
   "cell_type": "code",
   "execution_count": null,
   "id": "4719db8d-d785-4d01-bacf-f75cbd6ef9ce",
   "metadata": {},
   "outputs": [],
   "source": []
  }
 ],
 "metadata": {
  "kernelspec": {
   "display_name": "Python 3 (ipykernel)",
   "language": "python",
   "name": "python3"
  },
  "language_info": {
   "codemirror_mode": {
    "name": "ipython",
    "version": 3
   },
   "file_extension": ".py",
   "mimetype": "text/x-python",
   "name": "python",
   "nbconvert_exporter": "python",
   "pygments_lexer": "ipython3",
   "version": "3.12.7"
  }
 },
 "nbformat": 4,
 "nbformat_minor": 5
}
