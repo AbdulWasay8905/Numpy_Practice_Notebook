{
 "cells": [
  {
   "cell_type": "markdown",
   "id": "9a0e28ba-cacf-41cc-bcff-1044b248e2e5",
   "metadata": {},
   "source": [
    "# Join Array"
   ]
  },
  {
   "cell_type": "code",
   "execution_count": 6,
   "id": "81412ba2-74f9-4e99-b7b0-5706ac465a65",
   "metadata": {},
   "outputs": [
    {
     "name": "stdout",
     "output_type": "stream",
     "text": [
      "[1 2 3 4 5 2 7 8]\n"
     ]
    }
   ],
   "source": [
    "import numpy as np\n",
    "\n",
    "arr=np.array([1,2,3,4])\n",
    "arr1=np.array([5,2,7,8])\n",
    "ar=np.concatenate((arr,arr1))\n",
    "print(ar)"
   ]
  },
  {
   "cell_type": "code",
   "execution_count": 14,
   "id": "faeec89b-5d13-490c-9d87-bc0716e561b4",
   "metadata": {},
   "outputs": [
    {
     "name": "stdout",
     "output_type": "stream",
     "text": [
      "[[1 2 3]\n",
      " [4 5 6]]\n",
      "\n",
      "[[3 2 1]\n",
      " [6 5 4]]\n",
      "\n",
      "[[1 2 3]\n",
      " [4 5 6]\n",
      " [3 2 1]\n",
      " [6 5 4]]\n",
      "\n",
      "[[1 2 3 3 2 1]\n",
      " [4 5 6 6 5 4]]\n"
     ]
    }
   ],
   "source": [
    "arr1=np.array([[1,2,3],[4,5,6]])\n",
    "arr2=np.array([[3,2,1],[6,5,4]])\n",
    "print(arr1)\n",
    "print()\n",
    "print(arr2)\n",
    "print()\n",
    "arr_0=np.concatenate((arr1,arr2),axis=0)\n",
    "arr_1=np.concatenate((arr1,arr2),axis=1)\n",
    "print(arr_0)\n",
    "print()\n",
    "print(arr_1)"
   ]
  },
  {
   "cell_type": "markdown",
   "id": "f3844ca8-965b-41cc-840c-fc99c72b9fc5",
   "metadata": {},
   "source": [
    "# stack"
   ]
  },
  {
   "cell_type": "code",
   "execution_count": 35,
   "id": "6e257443-a60c-4d5a-81e8-af4527d22fd0",
   "metadata": {},
   "outputs": [
    {
     "name": "stdout",
     "output_type": "stream",
     "text": [
      "[[1 2 3 4]\n",
      " [5 6 7 8]]\n",
      "\n",
      "[[1 5]\n",
      " [2 6]\n",
      " [3 7]\n",
      " [4 8]]\n",
      "\n",
      "[1 2 3 4 5 6 7 8]\n",
      "\n",
      "[[1 2 3 4]\n",
      " [5 6 7 8]]\n",
      "\n",
      "[[[1 5]\n",
      "  [2 6]\n",
      "  [3 7]\n",
      "  [4 8]]]\n"
     ]
    }
   ],
   "source": [
    "arr1=([1,2,3,4])\n",
    "arr2=([5,6,7,8])\n",
    "a_new0=np.stack((arr1,arr2),axis=0)# coloumn\n",
    "a_new1=np.stack((arr1,arr2),axis=1) #row\n",
    "a_new2=np.hstack((arr1,arr2)) #row\n",
    "a_new3=np.vstack((arr1,arr2)) #coloumn\n",
    "a_new4=np.dstack((arr1,arr2)) #height\n",
    "print(f\"{a_new0}\")\n",
    "print()\n",
    "print(f\"{a_new1}\")\n",
    "print()\n",
    "print(f\"{a_new2}\")\n",
    "print()\n",
    "print(f\"{a_new3}\")\n",
    "print()\n",
    "print(f\"{a_new4}\")"
   ]
  },
  {
   "cell_type": "code",
   "execution_count": 21,
   "id": "08eacf5d-7fb7-4aa3-8b2c-f094f6d06c58",
   "metadata": {},
   "outputs": [
    {
     "name": "stdout",
     "output_type": "stream",
     "text": [
      "[[[1 2 3]\n",
      "  [4 5 6]]\n",
      "\n",
      " [[3 2 1]\n",
      "  [6 5 4]]]\n",
      "\n",
      "[[[1 2 3]\n",
      "  [3 2 1]]\n",
      "\n",
      " [[4 5 6]\n",
      "  [6 5 4]]]\n"
     ]
    }
   ],
   "source": [
    "arr1=np.array([[1,2,3],[4,5,6]])\n",
    "arr2=np.array([[3,2,1],[6,5,4]])\n",
    "\n",
    "a_new0=np.stack((arr1,arr2),axis=0)\n",
    "a_new1=np.stack((arr1,arr2),axis=1)\n",
    "print(a_new0)\n",
    "print()\n",
    "print(a_new1)"
   ]
  }
 ],
 "metadata": {
  "kernelspec": {
   "display_name": "Python 3 (ipykernel)",
   "language": "python",
   "name": "python3"
  },
  "language_info": {
   "codemirror_mode": {
    "name": "ipython",
    "version": 3
   },
   "file_extension": ".py",
   "mimetype": "text/x-python",
   "name": "python",
   "nbconvert_exporter": "python",
   "pygments_lexer": "ipython3",
   "version": "3.12.7"
  }
 },
 "nbformat": 4,
 "nbformat_minor": 5
}
