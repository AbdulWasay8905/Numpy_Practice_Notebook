{
 "cells": [
  {
   "cell_type": "markdown",
   "id": "085b05e6-8040-4e9a-b422-57e9a297fac5",
   "metadata": {},
   "source": [
    "# matrix"
   ]
  },
  {
   "cell_type": "code",
   "execution_count": 5,
   "id": "06315557-66a3-4185-8ee4-da9ad9d1468b",
   "metadata": {},
   "outputs": [
    {
     "name": "stdout",
     "output_type": "stream",
     "text": [
      "[[ 9 12]\n",
      " [24 33]]\n",
      "\n",
      "[[ 9 12]\n",
      " [24 33]]\n",
      "\n",
      "[[ 9 12]\n",
      " [24 33]]\n"
     ]
    }
   ],
   "source": [
    "import numpy as np\n",
    "\n",
    "mat1=np.matrix([[1,2],[4,5]])\n",
    "mat2=np.matrix([[1,2],[4,5]])\n",
    "\n",
    "print(mat1.dot(mat2))\n",
    "print()\n",
    "print(np.dot(mat1,mat2))\n",
    "print()\n",
    "print(mat1@mat2)\n"
   ]
  },
  {
   "cell_type": "markdown",
   "id": "e2a2cd03-b763-4ee1-82f6-f1f70a261121",
   "metadata": {},
   "source": [
    "# Matrix Function"
   ]
  },
  {
   "cell_type": "code",
   "execution_count": 28,
   "id": "5f69108a-0ef1-48ce-b6bd-d5e44c3ef56f",
   "metadata": {},
   "outputs": [
    {
     "name": "stdout",
     "output_type": "stream",
     "text": [
      "Original Matrix\n",
      " [[1 2]\n",
      " [3 4]\n",
      " [5 6]]\n",
      "\n",
      "Matrix After Transpose\n",
      " [[1 3 5]\n",
      " [2 4 6]]\n",
      "\n",
      "[[1 3 5]\n",
      " [2 4 6]]\n",
      "\n",
      "[[1 3 5]\n",
      " [2 4 6]]\n"
     ]
    }
   ],
   "source": [
    "mat=np.matrix([[1,2],[3,4],[5,6]])\n",
    "print(\"Original Matrix\\n\",mat)\n",
    "print()\n",
    "print(\"Matrix After Transpose\\n\",np.transpose(mat))\n",
    "print()\n",
    "print(mat.T)\n",
    "print()\n",
    "print(np.swapaxes(mat,0,1))\n"
   ]
  },
  {
   "cell_type": "code",
   "execution_count": 40,
   "id": "8849f4f4-e25d-4f66-97e6-9dad48559daf",
   "metadata": {},
   "outputs": [
    {
     "name": "stdout",
     "output_type": "stream",
     "text": [
      "Original Matrix\n",
      " [[1 2]\n",
      " [5 6]]\n",
      "\n",
      "After Inverse of Matrix\n",
      " [[-1.5   0.5 ]\n",
      " [ 1.25 -0.25]]\n"
     ]
    }
   ],
   "source": [
    "mat=np.matrix([[1,2],[5,6]])\n",
    "print(\"Original Matrix\\n\",mat)\n",
    "print()\n",
    "print(\"After Inverse of Matrix\\n\",np.linalg.inv(mat))\n"
   ]
  },
  {
   "cell_type": "code",
   "execution_count": 42,
   "id": "99a8b450-9b80-414c-99fa-f8bb9440d8ad",
   "metadata": {},
   "outputs": [
    {
     "name": "stdout",
     "output_type": "stream",
     "text": [
      "Original Matrix\n",
      " [[1 2]\n",
      " [5 6]]\n",
      "\n",
      "[[11 14]\n",
      " [35 46]]\n"
     ]
    }
   ],
   "source": [
    "mat=np.matrix([[1,2],[5,6]])\n",
    "print(\"Original Matrix\\n\",mat)\n",
    "print()\n",
    "print(np.dot(mat,mat))\n"
   ]
  },
  {
   "cell_type": "code",
   "execution_count": 52,
   "id": "f9b8855e-d427-46bf-89be-ee12fb29d73f",
   "metadata": {},
   "outputs": [
    {
     "name": "stdout",
     "output_type": "stream",
     "text": [
      "Original Matrix\n",
      " [[1 2]\n",
      " [5 6]]\n",
      "\n",
      "[[11 14]\n",
      " [35 46]]\n",
      "\n",
      "[[1 0]\n",
      " [0 1]]\n",
      "\n",
      "[[ 2.875  -0.875 ]\n",
      " [-2.1875  0.6875]]\n"
     ]
    }
   ],
   "source": [
    "mat=np.matrix([[1,2],[5,6]])\n",
    "print(\"Original Matrix\\n\",mat)\n",
    "print()\n",
    "print(np.linalg.matrix_power(mat,2))\n",
    "print()\n",
    "print(np.linalg.matrix_power(mat,0))\n",
    "print()\n",
    "print(np.linalg.matrix_power(mat,-2))"
   ]
  },
  {
   "cell_type": "code",
   "execution_count": 62,
   "id": "a7ef5740-c10f-4e00-94e1-cefd14de4507",
   "metadata": {},
   "outputs": [
    {
     "name": "stdout",
     "output_type": "stream",
     "text": [
      "[[1 2]\n",
      " [5 6]]\n",
      "\n",
      "Determinant of Matrix\n",
      " -3.999999999999999\n"
     ]
    }
   ],
   "source": [
    "mat=np.matrix([[1,2],[5,6]])\n",
    "\n",
    "print(mat)\n",
    "print()\n",
    "print(\"Determinant of Matrix\\n\",np.linalg.det(mat))\n"
   ]
  },
  {
   "cell_type": "code",
   "execution_count": null,
   "id": "9027dc1e-1e48-48d1-a11b-b336e2055478",
   "metadata": {},
   "outputs": [],
   "source": []
  }
 ],
 "metadata": {
  "kernelspec": {
   "display_name": "Python 3 (ipykernel)",
   "language": "python",
   "name": "python3"
  },
  "language_info": {
   "codemirror_mode": {
    "name": "ipython",
    "version": 3
   },
   "file_extension": ".py",
   "mimetype": "text/x-python",
   "name": "python",
   "nbconvert_exporter": "python",
   "pygments_lexer": "ipython3",
   "version": "3.12.7"
  }
 },
 "nbformat": 4,
 "nbformat_minor": 5
}
