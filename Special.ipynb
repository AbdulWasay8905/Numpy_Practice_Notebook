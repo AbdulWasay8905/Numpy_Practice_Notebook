{
 "cells": [
  {
   "cell_type": "markdown",
   "id": "6d44f16b-5447-4ddf-b9d5-a0da680c35c4",
   "metadata": {},
   "source": [
    "Zeros"
   ]
  },
  {
   "cell_type": "code",
   "execution_count": 4,
   "id": "5bf3f613-92d4-4004-b32e-7bd6758a9577",
   "metadata": {},
   "outputs": [
    {
     "name": "stdout",
     "output_type": "stream",
     "text": [
      "[0. 0. 0. 0.]\n",
      "[[0. 0. 0. 0. 0.]\n",
      " [0. 0. 0. 0. 0.]\n",
      " [0. 0. 0. 0. 0.]\n",
      " [0. 0. 0. 0. 0.]\n",
      " [0. 0. 0. 0. 0.]]\n"
     ]
    }
   ],
   "source": [
    "import numpy as np\n",
    "ar_zero=np.zeros(4)\n",
    "ar_zero1=np.zeros((5,5))\n",
    "print(ar_zero)\n",
    "print(ar_zero1)"
   ]
  },
  {
   "cell_type": "markdown",
   "id": "7aa61577-ed7f-46a0-9045-e6e4ae8a212f",
   "metadata": {},
   "source": [
    "Ones Array\n"
   ]
  },
  {
   "cell_type": "code",
   "execution_count": 6,
   "id": "614227db-7010-46e0-8ac0-2b4a7c01d0da",
   "metadata": {},
   "outputs": [
    {
     "name": "stdout",
     "output_type": "stream",
     "text": [
      "[1. 1. 1. 1.]\n",
      "[[1. 1. 1. 1. 1.]\n",
      " [1. 1. 1. 1. 1.]\n",
      " [1. 1. 1. 1. 1.]\n",
      " [1. 1. 1. 1. 1.]]\n"
     ]
    }
   ],
   "source": [
    "ar_ones=np.ones(4)\n",
    "ar_ones1=np.ones((4,5))\n",
    "print(ar_ones)\n",
    "print(ar_ones1)"
   ]
  },
  {
   "cell_type": "markdown",
   "id": "e449eb89-a852-42a7-b6c6-5b3f50794221",
   "metadata": {},
   "source": [
    "Empty"
   ]
  },
  {
   "cell_type": "code",
   "execution_count": 8,
   "id": "b09162a6-554d-49ca-bf54-9bb4c2fe75b0",
   "metadata": {},
   "outputs": [
    {
     "name": "stdout",
     "output_type": "stream",
     "text": [
      "[6.23042070e-307 4.67296746e-307 1.69121096e-306 1.69761995e-312\n",
      " 0.00000000e+000]\n"
     ]
    }
   ],
   "source": [
    "arr_empty=np.empty(5)\n",
    "print(arr_empty)"
   ]
  },
  {
   "cell_type": "markdown",
   "id": "c6840aab-01ac-414c-b8a6-b2dcb062ff0e",
   "metadata": {},
   "source": [
    "Range"
   ]
  },
  {
   "cell_type": "code",
   "execution_count": 24,
   "id": "8aab729b-ea07-48c4-aace-853a2dd48f80",
   "metadata": {},
   "outputs": [
    {
     "name": "stdout",
     "output_type": "stream",
     "text": [
      "[0 1 2 3 4]\n"
     ]
    }
   ],
   "source": [
    "arr_rn=np.arange(5)\n",
    "print(arr_rn)"
   ]
  },
  {
   "cell_type": "markdown",
   "id": "4eeba8f0-ee3e-4fe6-9f7f-96dd15fce70a",
   "metadata": {},
   "source": [
    "Digonal"
   ]
  },
  {
   "cell_type": "code",
   "execution_count": 29,
   "id": "5cc0b674-531c-40ac-96a3-f7e7e99adaff",
   "metadata": {},
   "outputs": [
    {
     "name": "stdout",
     "output_type": "stream",
     "text": [
      "[[1. 0. 0.]\n",
      " [0. 1. 0.]\n",
      " [0. 0. 1.]]\n",
      "[[1. 0. 0. 0. 0.]\n",
      " [0. 1. 0. 0. 0.]\n",
      " [0. 0. 1. 0. 0.]\n",
      " [0. 0. 0. 1. 0.]\n",
      " [0. 0. 0. 0. 1.]]\n"
     ]
    }
   ],
   "source": [
    "arr_dia=np.eye(3)\n",
    "arr_dia1=np.eye(5,5)\n",
    "print(arr_dia)\n",
    "print(arr_dia1)"
   ]
  },
  {
   "cell_type": "markdown",
   "id": "4fe28d30-3e54-4b69-b96a-b00d28d71522",
   "metadata": {},
   "source": [
    "LinSpace"
   ]
  },
  {
   "cell_type": "code",
   "execution_count": 35,
   "id": "503354ee-c0c8-49fb-a86e-4011ce5591ed",
   "metadata": {},
   "outputs": [
    {
     "name": "stdout",
     "output_type": "stream",
     "text": [
      "[ 0.  5. 10. 15. 20.]\n"
     ]
    }
   ],
   "source": [
    "ar_lin=np.linspace(0,20,num=5)\n",
    "print(ar_lin)"
   ]
  },
  {
   "cell_type": "code",
   "execution_count": null,
   "id": "0b1a80d5-54e9-418b-8c30-2a6b9284c16d",
   "metadata": {},
   "outputs": [],
   "source": []
  }
 ],
 "metadata": {
  "kernelspec": {
   "display_name": "Python 3 (ipykernel)",
   "language": "python",
   "name": "python3"
  },
  "language_info": {
   "codemirror_mode": {
    "name": "ipython",
    "version": 3
   },
   "file_extension": ".py",
   "mimetype": "text/x-python",
   "name": "python",
   "nbconvert_exporter": "python",
   "pygments_lexer": "ipython3",
   "version": "3.12.7"
  }
 },
 "nbformat": 4,
 "nbformat_minor": 5
}
