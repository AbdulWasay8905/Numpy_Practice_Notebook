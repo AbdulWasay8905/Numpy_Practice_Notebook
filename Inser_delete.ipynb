{
 "cells": [
  {
   "cell_type": "markdown",
   "id": "93b7cad6-e9e4-4f59-83ec-d12850c96a64",
   "metadata": {},
   "source": [
    "# Insert Function"
   ]
  },
  {
   "cell_type": "code",
   "execution_count": 7,
   "id": "3150f002-efda-4977-a2a5-8088e4a4dced",
   "metadata": {},
   "outputs": [
    {
     "name": "stdout",
     "output_type": "stream",
     "text": [
      "[1 2 3 4 5]\n",
      "\n",
      "[ 1  2 10  3  4  5]\n"
     ]
    }
   ],
   "source": [
    "import numpy as np\n",
    "\n",
    "arr=np.array([1,2,3,4,5])\n",
    "print(arr)\n",
    "print()\n",
    "i=np.insert(arr,2,10)\n",
    "print(i)"
   ]
  },
  {
   "cell_type": "code",
   "execution_count": 9,
   "id": "4e15538e-bbde-4354-b628-b937c968de02",
   "metadata": {},
   "outputs": [
    {
     "name": "stdout",
     "output_type": "stream",
     "text": [
      "[[1 2 6 3 4]\n",
      " [5 6 6 7 8]]\n",
      "\n",
      "[[ 1  2  3  4]\n",
      " [22 33 44 55]\n",
      " [ 5  6  7  8]]\n"
     ]
    }
   ],
   "source": [
    "arr=np.array([[1,2,3,4],[5,6,7,8]])\n",
    "ins1=np.insert(arr,2,6,axis=1)\n",
    "ins0=np.insert(arr,1,[22,33,44,55],axis=0)\n",
    "print(ins1)\n",
    "print()\n",
    "print(ins0)\n"
   ]
  },
  {
   "cell_type": "markdown",
   "id": "03f8aff6-d550-4124-a5de-5636c34f13c8",
   "metadata": {},
   "source": [
    "# delete"
   ]
  },
  {
   "cell_type": "code",
   "execution_count": 11,
   "id": "775820aa-2857-4a45-aaea-f540347a90f3",
   "metadata": {},
   "outputs": [
    {
     "name": "stdout",
     "output_type": "stream",
     "text": [
      "[1 3 4 5]\n"
     ]
    }
   ],
   "source": [
    "arr=np.array([1,2,3,4,5])\n",
    "de=np.delete(arr,1)\n",
    "print(de)\n"
   ]
  },
  {
   "cell_type": "code",
   "execution_count": 21,
   "id": "e06db293-8e9f-4afa-bef3-85480e1d3dd9",
   "metadata": {},
   "outputs": [
    {
     "name": "stdout",
     "output_type": "stream",
     "text": [
      "[1 2 3 4 5 7 8]\n"
     ]
    }
   ],
   "source": [
    "arr1=np.array([[1,2,3,4],[5,6,7,8]])\n",
    "de=np.delete(arr1,5)\n",
    "print(de)"
   ]
  },
  {
   "cell_type": "code",
   "execution_count": null,
   "id": "4197d2bf-d078-498a-997b-bd76763e7440",
   "metadata": {},
   "outputs": [],
   "source": []
  }
 ],
 "metadata": {
  "kernelspec": {
   "display_name": "Python 3 (ipykernel)",
   "language": "python",
   "name": "python3"
  },
  "language_info": {
   "codemirror_mode": {
    "name": "ipython",
    "version": 3
   },
   "file_extension": ".py",
   "mimetype": "text/x-python",
   "name": "python",
   "nbconvert_exporter": "python",
   "pygments_lexer": "ipython3",
   "version": "3.12.7"
  }
 },
 "nbformat": 4,
 "nbformat_minor": 5
}
