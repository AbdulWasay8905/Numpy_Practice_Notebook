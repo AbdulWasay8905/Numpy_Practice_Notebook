{
 "cells": [
  {
   "cell_type": "markdown",
   "id": "608e170c-2623-4d20-8ce1-5ceea1fefa93",
   "metadata": {},
   "source": [
    "# shuffle"
   ]
  },
  {
   "cell_type": "code",
   "execution_count": 44,
   "id": "9040f7dd-1881-428a-835a-2d998d3931be",
   "metadata": {},
   "outputs": [
    {
     "name": "stdout",
     "output_type": "stream",
     "text": [
      "[5 2 3 4 1]\n"
     ]
    }
   ],
   "source": [
    "import numpy as np\n",
    "\n",
    "arr=np.array([1,2,3,4,5])\n",
    "\n",
    "np.random.shuffle(arr)\n",
    "\n",
    "print(arr)"
   ]
  },
  {
   "cell_type": "markdown",
   "id": "6025f94b-5f0a-40c0-8399-be20153db413",
   "metadata": {},
   "source": [
    "# unique"
   ]
  },
  {
   "cell_type": "code",
   "execution_count": 57,
   "id": "710a1cdd-9d35-4dcb-81a4-67a66f33d882",
   "metadata": {},
   "outputs": [
    {
     "name": "stdout",
     "output_type": "stream",
     "text": [
      "(array([1, 2, 3, 4, 5, 9]), array([1, 2, 4, 7, 5, 0], dtype=int64), array([2, 2, 1, 1, 3, 1], dtype=int64))\n"
     ]
    }
   ],
   "source": [
    "arr=np.array([9,1,2,1,3,5,2,4,5,5])\n",
    "\n",
    "x=np.unique(arr,return_index=True,return_counts=True)\n",
    "\n",
    "print(x)"
   ]
  },
  {
   "cell_type": "markdown",
   "id": "756db5d1-93f5-4436-9163-252aad9a253a",
   "metadata": {},
   "source": [
    "# Resize Flatten Ravel"
   ]
  },
  {
   "cell_type": "code",
   "execution_count": 94,
   "id": "79b7003d-dd4f-4ae5-98dd-6294c5f617f8",
   "metadata": {},
   "outputs": [
    {
     "name": "stdout",
     "output_type": "stream",
     "text": [
      "[[1 2 3]\n",
      " [4 5 6]\n",
      " [7 8 1]]\n",
      "\n",
      "[1 4 7 2 5 8 3 6 1]\n",
      "[1 2 3 4 5 6 7 8 1]\n",
      "[1 2 3 4 5 6 7 8 1]\n",
      "[1 2 3 4 5 6 7 8 1]\n",
      "\n",
      "[1 2 3 4 5 6 7 8 1]\n"
     ]
    }
   ],
   "source": [
    "arr=np.array([1,2,3,4,5,6,7,8])\n",
    "y=np.resize(arr,(3,3))\n",
    "print(y)\n",
    "print()\n",
    "print(y.flatten(order=\"F\"))\n",
    "print(y.flatten(order=\"C\"))\n",
    "print(y.flatten(order=\"A\"))\n",
    "print(y.flatten(order=\"K\"))\n",
    "print()\n",
    "\n",
    "print(np.ravel(y))\n",
    "\n"
   ]
  },
  {
   "cell_type": "code",
   "execution_count": null,
   "id": "d45aa1d0-5e30-4dab-a3a4-1247f0ed57d1",
   "metadata": {},
   "outputs": [],
   "source": []
  }
 ],
 "metadata": {
  "kernelspec": {
   "display_name": "Python 3 (ipykernel)",
   "language": "python",
   "name": "python3"
  },
  "language_info": {
   "codemirror_mode": {
    "name": "ipython",
    "version": 3
   },
   "file_extension": ".py",
   "mimetype": "text/x-python",
   "name": "python",
   "nbconvert_exporter": "python",
   "pygments_lexer": "ipython3",
   "version": "3.12.7"
  }
 },
 "nbformat": 4,
 "nbformat_minor": 5
}
