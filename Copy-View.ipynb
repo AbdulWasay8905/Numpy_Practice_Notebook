{
 "cells": [
  {
   "cell_type": "markdown",
   "id": "7a3ad5f3-7575-4a29-aa16-ddf77de2b00c",
   "metadata": {},
   "source": [
    "# copy vs view"
   ]
  },
  {
   "cell_type": "code",
   "execution_count": 20,
   "id": "8eef2294-32e7-4b0a-b0ca-028be0e7a1a1",
   "metadata": {},
   "outputs": [
    {
     "name": "stdout",
     "output_type": "stream",
     "text": [
      "[1 2 3 4 5]\n",
      "[1 2 3 4 5]\n",
      "\n",
      "[ 1 40  3  4  5]\n",
      "[1 2 3 4 5]\n"
     ]
    }
   ],
   "source": [
    "import numpy as np\n",
    "\n",
    "arr=np.array([1,2,3,4,5])\n",
    "x=arr.copy()\n",
    "print(arr)\n",
    "print(x)\n",
    "print()\n",
    "arr[1]=40\n",
    "print(arr)\n",
    "print(x)"
   ]
  },
  {
   "cell_type": "code",
   "execution_count": 18,
   "id": "2d476374-e600-4e1e-beb8-a428f1945126",
   "metadata": {},
   "outputs": [
    {
     "name": "stdout",
     "output_type": "stream",
     "text": [
      "[ 6  7  8  9 10]\n",
      "[ 6  7  8  9 10]\n",
      "\n",
      "[ 6  7 30  9 10]\n",
      "[ 6  7 30  9 10]\n"
     ]
    }
   ],
   "source": [
    "arr1=np.array([6,7,8,9,10])\n",
    "y=arr1.view()\n",
    "print(arr1)\n",
    "\n",
    "print(y)\n",
    "print()\n",
    "arr1[2]=30\n",
    "print(arr1)\n",
    "print(y)"
   ]
  },
  {
   "cell_type": "code",
   "execution_count": null,
   "id": "6ec11c90-375f-43b1-ae3b-e7d1bc7c3880",
   "metadata": {},
   "outputs": [],
   "source": []
  }
 ],
 "metadata": {
  "kernelspec": {
   "display_name": "Python 3 (ipykernel)",
   "language": "python",
   "name": "python3"
  },
  "language_info": {
   "codemirror_mode": {
    "name": "ipython",
    "version": 3
   },
   "file_extension": ".py",
   "mimetype": "text/x-python",
   "name": "python",
   "nbconvert_exporter": "python",
   "pygments_lexer": "ipython3",
   "version": "3.12.7"
  }
 },
 "nbformat": 4,
 "nbformat_minor": 5
}
