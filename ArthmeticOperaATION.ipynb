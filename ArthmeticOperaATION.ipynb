{
 "cells": [
  {
   "cell_type": "markdown",
   "id": "d4a34580-d247-4546-bec5-be2c57388b84",
   "metadata": {},
   "source": [
    "# arthmetic opertaion basic"
   ]
  },
  {
   "cell_type": "code",
   "execution_count": 12,
   "id": "458ae2b7-2368-416b-beae-c0b734064468",
   "metadata": {},
   "outputs": [
    {
     "name": "stdout",
     "output_type": "stream",
     "text": [
      "Max value: 1\n",
      "Max Location: 0\n"
     ]
    }
   ],
   "source": [
    "import numpy as np\n",
    "arr=np.array([1,2,3,4,5])\n",
    "print(f\"Max value: {np.min(arr)}\")\n",
    "print(f\"Max Location: {np.argmin(arr)}\")"
   ]
  },
  {
   "cell_type": "code",
   "execution_count": 39,
   "id": "52decaad-cbbb-4cab-a661-bba60185fb7b",
   "metadata": {},
   "outputs": [
    {
     "name": "stdout",
     "output_type": "stream",
     "text": [
      "Max value: 5\n",
      "Max Location: 4\n",
      "sqrt :[1.         1.41421356 1.73205081 2.         2.23606798]\n"
     ]
    }
   ],
   "source": [
    "arr=np.array([1,2,3,4,5])\n",
    "arr_max=np.max(arr)\n",
    "print(f\"Max value: {arr_max}\")\n",
    "print(f\"Max Location: {np.argmax(arr)}\")\n",
    "print(f\"sqrt :{np.sqrt(arr)}\")"
   ]
  },
  {
   "cell_type": "markdown",
   "id": "b65a3edb-37af-4c98-aa78-b82ff9b7b2d6",
   "metadata": {},
   "source": [
    "# axis=0 mean coloumn check hoga in 2d\n",
    "# axis=1 mean row wise check hoga"
   ]
  },
  {
   "cell_type": "code",
   "execution_count": 35,
   "id": "20732910-00b5-43a0-8063-489f3d1bcbe7",
   "metadata": {},
   "outputs": [
    {
     "name": "stdout",
     "output_type": "stream",
     "text": [
      "min value axis 0: [1 2 3 4 5]\n",
      "min value axis 1: [1 6]\n",
      "min Location: 0\n"
     ]
    }
   ],
   "source": [
    "arr2d=np.array([[1,2,3,4,5],[6,7,8,9,10]])\n",
    "\n",
    "print(f\"min value axis 0: {np.min(arr2d,axis=0)}\")\n",
    "print(f\"min value axis 1: {np.min(arr2d,axis=1)}\")\n",
    "print(f\"min Location: {np.argmin(arr2d)}\")"
   ]
  },
  {
   "cell_type": "code",
   "execution_count": 37,
   "id": "0896fbac-ec5b-4671-88cf-049765f5174f",
   "metadata": {},
   "outputs": [
    {
     "name": "stdout",
     "output_type": "stream",
     "text": [
      "max value axis 0 : [ 6  7  8  9 10]\n",
      "max value axis 1 : [ 5 10]\n",
      "Max Location: 9\n"
     ]
    }
   ],
   "source": [
    "arr2d=np.array([[1,2,3,4,5],[6,7,8,9,10]])\n",
    "\n",
    "print(f\"max value axis 0 : {np.max(arr2d,axis=0)}\")\n",
    "print(f\"max value axis 1 : {np.max(arr2d,axis=1)}\")\n",
    "print(f\"Max Location: {np.argmax(arr)}\")"
   ]
  },
  {
   "cell_type": "code",
   "execution_count": 43,
   "id": "8613c340-d80d-4f71-9208-e3c300dc3323",
   "metadata": {},
   "outputs": [
    {
     "name": "stdout",
     "output_type": "stream",
     "text": [
      "[ 0.84147098  0.90929743  0.14112001 -0.7568025  -0.95892427]\n",
      "[ 0.54030231 -0.41614684 -0.9899925  -0.65364362  0.28366219]\n"
     ]
    }
   ],
   "source": [
    "arr=np.array([1,2,3,4,5])\n",
    "print(np.sin(arr))\n",
    "print(np.cos(arr))"
   ]
  },
  {
   "cell_type": "code",
   "execution_count": 45,
   "id": "97cf9ff8-1a0c-41a8-a2c3-bf96ef47ba41",
   "metadata": {},
   "outputs": [
    {
     "name": "stdout",
     "output_type": "stream",
     "text": [
      "[ 1  3  6 10 15]\n"
     ]
    }
   ],
   "source": [
    "arr=np.array([1,2,3,4,5])\n",
    "print(np.cumsum(arr))"
   ]
  },
  {
   "cell_type": "code",
   "execution_count": null,
   "id": "13d92b6a-9003-429f-b2ac-c540f29a44b2",
   "metadata": {},
   "outputs": [],
   "source": []
  }
 ],
 "metadata": {
  "kernelspec": {
   "display_name": "Python 3 (ipykernel)",
   "language": "python",
   "name": "python3"
  },
  "language_info": {
   "codemirror_mode": {
    "name": "ipython",
    "version": 3
   },
   "file_extension": ".py",
   "mimetype": "text/x-python",
   "name": "python",
   "nbconvert_exporter": "python",
   "pygments_lexer": "ipython3",
   "version": "3.12.7"
  }
 },
 "nbformat": 4,
 "nbformat_minor": 5
}
