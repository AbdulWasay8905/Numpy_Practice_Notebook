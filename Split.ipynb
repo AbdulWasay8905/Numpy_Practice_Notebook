{
 "cells": [
  {
   "cell_type": "markdown",
   "id": "23a3828e-3f64-46b4-8be4-c2c13c92186b",
   "metadata": {},
   "source": [
    "# split array"
   ]
  },
  {
   "cell_type": "code",
   "execution_count": 26,
   "id": "9a5025f2-a62a-4211-a507-a6beda55d5ae",
   "metadata": {},
   "outputs": [
    {
     "name": "stdout",
     "output_type": "stream",
     "text": [
      "[1 2 3 4 5 6]\n",
      "\n",
      "[array([1, 2]), array([3, 4]), array([5, 6])]\n"
     ]
    }
   ],
   "source": [
    "import numpy as np\n",
    "\n",
    "arr=np.array([1,2,3,4,5,6])\n",
    "print(arr)\n",
    "print()\n",
    "arr_sp=np.array_split(arr,3)\n",
    "print(arr_sp)"
   ]
  },
  {
   "cell_type": "code",
   "execution_count": 30,
   "id": "0fe546ee-75c2-400a-9b32-d238a79fd5c2",
   "metadata": {},
   "outputs": [
    {
     "name": "stdout",
     "output_type": "stream",
     "text": [
      "[[1 2 3]\n",
      " [7 8 9]\n",
      " [4 5 6]]\n",
      "\n",
      "[array([[1, 2, 3]]), array([[7, 8, 9]]), array([[4, 5, 6]])]\n"
     ]
    }
   ],
   "source": [
    "arr=np.array([[1,2,3],[7,8,9],[4,5,6]])\n",
    "print(arr)\n",
    "print()\n",
    "arr_sp=np.array_split(arr,3)\n",
    "print(arr_sp)"
   ]
  },
  {
   "cell_type": "code",
   "execution_count": null,
   "id": "abe53118-2b80-4303-9309-afb0a18d1f4f",
   "metadata": {},
   "outputs": [],
   "source": []
  }
 ],
 "metadata": {
  "kernelspec": {
   "display_name": "Python 3 (ipykernel)",
   "language": "python",
   "name": "python3"
  },
  "language_info": {
   "codemirror_mode": {
    "name": "ipython",
    "version": 3
   },
   "file_extension": ".py",
   "mimetype": "text/x-python",
   "name": "python",
   "nbconvert_exporter": "python",
   "pygments_lexer": "ipython3",
   "version": "3.12.7"
  }
 },
 "nbformat": 4,
 "nbformat_minor": 5
}
