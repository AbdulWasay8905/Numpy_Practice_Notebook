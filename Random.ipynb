{
 "cells": [
  {
   "cell_type": "markdown",
   "id": "2107afd2-a178-44df-980c-f16da841192e",
   "metadata": {},
   "source": [
    "Random"
   ]
  },
  {
   "cell_type": "markdown",
   "id": "5959e196-5766-4787-9016-4ea46e7edaa9",
   "metadata": {},
   "source": [
    "Rand()"
   ]
  },
  {
   "cell_type": "code",
   "execution_count": 7,
   "id": "25580a19-3fd3-4ee4-9cbe-8603e94f012c",
   "metadata": {},
   "outputs": [
    {
     "name": "stdout",
     "output_type": "stream",
     "text": [
      "[0.72229745 0.97507955 0.89875024 0.27223189]\n"
     ]
    }
   ],
   "source": [
    "import numpy as np\n",
    "var =np.random.rand(4)\n",
    "print(var)"
   ]
  },
  {
   "cell_type": "code",
   "execution_count": 9,
   "id": "25cd1462-178a-435f-a872-270bdc667d36",
   "metadata": {},
   "outputs": [
    {
     "name": "stdout",
     "output_type": "stream",
     "text": [
      "[[0.5950538  0.94977212 0.80411775 0.06988033 0.95323832]\n",
      " [0.72102583 0.09134711 0.77468873 0.14090373 0.41840056]\n",
      " [0.42262335 0.5631763  0.24157029 0.11815854 0.74168035]]\n"
     ]
    }
   ],
   "source": [
    "var1=np.random.rand(3,5)\n",
    "print(var1)"
   ]
  },
  {
   "cell_type": "markdown",
   "id": "6aaf6172-de5f-4cf5-817b-441cbcacefbd",
   "metadata": {},
   "source": [
    "Randn"
   ]
  },
  {
   "cell_type": "code",
   "execution_count": 11,
   "id": "7069546c-a4f4-401b-8f11-3287c66def80",
   "metadata": {},
   "outputs": [
    {
     "name": "stdout",
     "output_type": "stream",
     "text": [
      "[ 2.42079841 -1.68395979 -0.82349742 -0.14271953 -1.97020396]\n",
      "2d Array\n",
      "[[-1.37585641 -0.72890763  0.55624254  0.13844677]\n",
      " [ 0.8271922   0.02514739 -0.76403574  0.56189929]\n",
      " [ 0.62362898  2.44720461  0.65128173 -0.45423046]\n",
      " [-0.4059621  -0.82196424  0.86941816 -0.8569763 ]]\n"
     ]
    }
   ],
   "source": [
    "var2=np.random.randn(5)\n",
    "var3=np.random.randn(4,4)\n",
    "print(var2)\n",
    "print(\"2d Array\")\n",
    "print(var3)\n"
   ]
  },
  {
   "cell_type": "markdown",
   "id": "e1be589a-4962-45d1-900c-fb748dd1672c",
   "metadata": {},
   "source": [
    "ranf()"
   ]
  },
  {
   "cell_type": "code",
   "execution_count": 13,
   "id": "4a713f08-a4b9-4ec3-8840-f36313dd6bc0",
   "metadata": {},
   "outputs": [
    {
     "name": "stdout",
     "output_type": "stream",
     "text": [
      "[0.46974056 0.76408433 0.20388564 0.61627757 0.8356186 ]\n"
     ]
    }
   ],
   "source": [
    "var4=np.random.ranf(5)\n",
    "print(var4)"
   ]
  },
  {
   "cell_type": "markdown",
   "id": "834f243b-50f3-4126-8d7b-34e3b1b82790",
   "metadata": {},
   "source": [
    "randint()"
   ]
  },
  {
   "cell_type": "code",
   "execution_count": 15,
   "id": "baadd498-838a-4434-8c5f-45f04c13110d",
   "metadata": {},
   "outputs": [
    {
     "name": "stdout",
     "output_type": "stream",
     "text": [
      "[7 4 6 3 4 3 5 4 5 3]\n",
      "\n",
      "[[3 4 2]\n",
      " [3 1 3]\n",
      " [1 3 1]]\n"
     ]
    }
   ],
   "source": [
    "var5=np.random.randint(3,8,10)\n",
    "var6=np.random.randint(1,5,(3,3))\n",
    "print(var5)\n",
    "print()\n",
    "print(var6)"
   ]
  },
  {
   "cell_type": "code",
   "execution_count": null,
   "id": "5f4c0158-2999-4362-9a18-34b33364e308",
   "metadata": {},
   "outputs": [],
   "source": []
  }
 ],
 "metadata": {
  "kernelspec": {
   "display_name": "Python 3 (ipykernel)",
   "language": "python",
   "name": "python3"
  },
  "language_info": {
   "codemirror_mode": {
    "name": "ipython",
    "version": 3
   },
   "file_extension": ".py",
   "mimetype": "text/x-python",
   "name": "python",
   "nbconvert_exporter": "python",
   "pygments_lexer": "ipython3",
   "version": "3.12.7"
  }
 },
 "nbformat": 4,
 "nbformat_minor": 5
}
