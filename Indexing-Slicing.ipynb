{
 "cells": [
  {
   "cell_type": "markdown",
   "id": "775f536f-39ac-4aba-94d1-8eff544a10a8",
   "metadata": {},
   "source": [
    "# Indexing"
   ]
  },
  {
   "cell_type": "code",
   "execution_count": 18,
   "id": "06c86043-e822-4dd5-a592-3ce433346f7a",
   "metadata": {},
   "outputs": [
    {
     "name": "stdout",
     "output_type": "stream",
     "text": [
      "2\n",
      "2\n"
     ]
    }
   ],
   "source": [
    "import numpy as np\n",
    "\n",
    "arr=np.array([1,2,3,4])\n",
    "print(arr[1])\n",
    "print(arr[-3])\n",
    "    "
   ]
  },
  {
   "cell_type": "code",
   "execution_count": 22,
   "id": "58e75867-b5cf-4afe-a337-f8aa4116d4ca",
   "metadata": {},
   "outputs": [
    {
     "name": "stdout",
     "output_type": "stream",
     "text": [
      "2\n",
      "6\n"
     ]
    }
   ],
   "source": [
    "arr1=np.array([[1,2,3],[5,5,6]])\n",
    "print(arr1[(0,1)])\n",
    "print(arr1[(1,2)])"
   ]
  },
  {
   "cell_type": "code",
   "execution_count": 57,
   "id": "b7efefa8-633a-426f-8b52-9330abd938c3",
   "metadata": {},
   "outputs": [
    {
     "name": "stdout",
     "output_type": "stream",
     "text": [
      "[[[ 1  2  3  4]\n",
      "  [ 5  6  7  8]]\n",
      "\n",
      " [[12  4 98  6]\n",
      "  [ 5  3 34  9]]]\n",
      "(2, 2, 4)\n",
      "\n",
      "5\n"
     ]
    }
   ],
   "source": [
    "arr3=np.array([[[1,2,3,4],[5,6,7,8]],[[12,4,98,6],[5,3,34,9]]])\n",
    "print(arr3)\n",
    "print(arr3.shape)\n",
    "print()\n",
    "\n",
    "print(arr3[(1,1,0)])"
   ]
  },
  {
   "cell_type": "markdown",
   "id": "6672ae33-123b-4b33-a097-dd21a38fb8ba",
   "metadata": {},
   "source": [
    "# slicing"
   ]
  },
  {
   "cell_type": "code",
   "execution_count": 70,
   "id": "4d276394-2db4-4a66-9245-c895e78c53d5",
   "metadata": {},
   "outputs": [
    {
     "name": "stdout",
     "output_type": "stream",
     "text": [
      "[1 2 3 4 5 6 7 8]\n",
      "\n",
      "2 to 5 [2 3 4 5]\n",
      "2 to end [2 3 4 5 6 7 8]\n",
      "Start to 5 [1 2 3 4 5]\n",
      "[1 3 5 7]\n",
      "[8 7 6 5 4 3 2 1]\n"
     ]
    }
   ],
   "source": [
    "var=np.array([1,2,3,4,5,6,7,8])\n",
    "print(var)\n",
    "print()\n",
    "\n",
    "print(f\"2 to 5 {var[1:5]}\")\n",
    "print(f\"2 to end {var[1:]}\")\n",
    "print(f\"Start to 5 {var[:5]}\")\n",
    "print(var[::2])\n",
    "print(var[::-1])\n"
   ]
  },
  {
   "cell_type": "code",
   "execution_count": 86,
   "id": "07aba1ea-2192-407a-a645-aa7eb06743d1",
   "metadata": {},
   "outputs": [
    {
     "name": "stdout",
     "output_type": "stream",
     "text": [
      "[[ 1  2  3  4  5]\n",
      " [ 6  7  8  9 10]]\n",
      "\n",
      "[2 3 4 5]\n",
      "7 to 10 :[ 7  8  9 10]\n"
     ]
    }
   ],
   "source": [
    "arr2=np.array([[1,2,3,4,5],[6,7,8,9,10]])\n",
    "print(arr2)\n",
    "print()\n",
    "print(arr2[0,1:])\n",
    "print(f\"7 to 10 :{arr2[1,1:]}\")"
   ]
  },
  {
   "cell_type": "code",
   "execution_count": null,
   "id": "1f48279b-82f8-4a19-b2d1-1176dd6f22fc",
   "metadata": {},
   "outputs": [],
   "source": []
  }
 ],
 "metadata": {
  "kernelspec": {
   "display_name": "Python 3 (ipykernel)",
   "language": "python",
   "name": "python3"
  },
  "language_info": {
   "codemirror_mode": {
    "name": "ipython",
    "version": 3
   },
   "file_extension": ".py",
   "mimetype": "text/x-python",
   "name": "python",
   "nbconvert_exporter": "python",
   "pygments_lexer": "ipython3",
   "version": "3.12.7"
  }
 },
 "nbformat": 4,
 "nbformat_minor": 5
}
