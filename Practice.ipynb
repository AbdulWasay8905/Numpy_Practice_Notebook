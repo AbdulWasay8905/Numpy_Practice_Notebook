{
 "cells": [
  {
   "cell_type": "code",
   "execution_count": 2,
   "id": "6234b5cb-1865-4b40-b013-8c571ac0d0e4",
   "metadata": {},
   "outputs": [
    {
     "name": "stdout",
     "output_type": "stream",
     "text": [
      "[ 1  2  3  4  5  6  7  8  9 10]\n"
     ]
    }
   ],
   "source": [
    "import numpy as np\n",
    "arr=np.array([1,2,3,4,5,6,7,8,9,10])\n",
    "print(arr)"
   ]
  },
  {
   "cell_type": "code",
   "execution_count": 6,
   "id": "2dec9920-56d8-4f18-badb-00d465fc4638",
   "metadata": {},
   "outputs": [
    {
     "name": "stdout",
     "output_type": "stream",
     "text": [
      "[[0. 0. 0.]\n",
      " [0. 0. 0.]\n",
      " [0. 0. 0.]]\n"
     ]
    }
   ],
   "source": [
    "arr=np.zeros((3,3))\n",
    "print(arr)"
   ]
  },
  {
   "cell_type": "code",
   "execution_count": 12,
   "id": "98d8d8b6-bdcc-4eeb-96fe-23affb8a913f",
   "metadata": {},
   "outputs": [
    {
     "name": "stdout",
     "output_type": "stream",
     "text": [
      "[0.00434528 0.32171006 0.54292314 0.48096272 0.74389679]\n"
     ]
    }
   ],
   "source": [
    "arr=np.random.rand(5)\n",
    "print(arr)\n"
   ]
  },
  {
   "cell_type": "code",
   "execution_count": 16,
   "id": "42605276-86e3-48b7-a8a3-4ed3b34b9edc",
   "metadata": {},
   "outputs": [
    {
     "name": "stdout",
     "output_type": "stream",
     "text": [
      "(2, 3)\n",
      "6\n"
     ]
    }
   ],
   "source": [
    "arr =np.array([[1, 2, 3], [4, 5, 6]])\n",
    "print(arr.shape)\n",
    "print(arr.size)"
   ]
  },
  {
   "cell_type": "code",
   "execution_count": 22,
   "id": "8ed55d00-cfb3-4bd5-8ab4-93f260f64eb1",
   "metadata": {},
   "outputs": [
    {
     "name": "stdout",
     "output_type": "stream",
     "text": [
      "[10 20 30]\n",
      "[1 2 3]\n",
      "\n",
      "[11 22 33]\n",
      "\n",
      "[10 40 90]\n",
      "\n",
      "[ 9 18 27]\n",
      "\n",
      "[10. 10. 10.]\n"
     ]
    }
   ],
   "source": [
    "a = np.array([10, 20, 30])\n",
    "b = np.array([1, 2, 3])\n",
    "print(a)\n",
    "print(b)\n",
    "print()\n",
    "print(a+b)\n",
    "print()\n",
    "print(a*b)\n",
    "print()\n",
    "print(a-b)\n",
    "print()\n",
    "print(a/b)"
   ]
  },
  {
   "cell_type": "code",
   "execution_count": 64,
   "id": "9dd0272f-8ed1-4884-92ac-1a1b55c0a88e",
   "metadata": {},
   "outputs": [
    {
     "name": "stdout",
     "output_type": "stream",
     "text": [
      "[[ 1  2  3  4  5]\n",
      " [ 6  7  8  9 10]\n",
      " [11 12 13 14 15]\n",
      " [16 17 18 19 20]]\n",
      "\n",
      "[[ 1  2  3  4  5]\n",
      " [ 6  7  8  9 10]]\n",
      "\n",
      "[ 5 10 15 20]\n",
      "\n",
      "[[ 7  8]\n",
      " [12 13]]\n"
     ]
    }
   ],
   "source": [
    "arr = np.arange(1, 21).reshape(4, 5)\n",
    "print(arr)\n",
    "print()\n",
    "print(arr[:2,:])\n",
    "print()\n",
    "print(arr[:,-1])\n",
    "print()\n",
    "print(arr[1:3,1:3])"
   ]
  },
  {
   "cell_type": "code",
   "execution_count": 72,
   "id": "cdde180d-a08d-4a47-877a-b32b322a38b0",
   "metadata": {},
   "outputs": [
    {
     "name": "stdout",
     "output_type": "stream",
     "text": [
      "[ 1  2  3  4  5  6  7  8  9 10]\n"
     ]
    }
   ],
   "source": [
    "arr=np.array([1,2,3,4,5,6,7,8,9,10,11,12,13,14,15])\n",
    "arr_new=arr[arr<=10]\n",
    "print(arr_new)"
   ]
  },
  {
   "cell_type": "code",
   "execution_count": 86,
   "id": "3a2d25ba-080a-4cf7-ab7f-dd14e68ca871",
   "metadata": {},
   "outputs": [
    {
     "name": "stdout",
     "output_type": "stream",
     "text": [
      "Matrix multiplication\n",
      " [[ 30  36  42]\n",
      " [ 66  81  96]\n",
      " [102 126 150]]\n",
      "\n",
      "[[ 30  36  42]\n",
      " [ 66  81  96]\n",
      " [102 126 150]]\n",
      "\n",
      "Element wise multiplication\n",
      " [[ 1  4  9]\n",
      " [16 25 36]\n",
      " [49 64 81]]\n"
     ]
    }
   ],
   "source": [
    "arr1=np.array([[1,2,3],[4,5,6],[7,8,9]])\n",
    "arr2=np.array([[1,2,3],[4,5,6],[7,8,9]])\n",
    "print(f\"Matrix multiplication\\n\",arr1@arr2)\n",
    "print()\n",
    "print(np.dot(arr1,arr2))\n",
    "print()\n",
    "print(\"Element wise multiplication\\n\",np.multiply(arr1,arr2))\n"
   ]
  },
  {
   "cell_type": "code",
   "execution_count": 100,
   "id": "83e81e36-abfd-4a2c-b773-db2f90b9ae0f",
   "metadata": {},
   "outputs": [
    {
     "name": "stdout",
     "output_type": "stream",
     "text": [
      "[88 32 97 41 24 88 17 48 31 17 74 71 69 70 35 21 45  8 86 37 51 30 34 18\n",
      " 67 84 38 94 86 72 11 79 70 88 15 30 15 25 97 15 92 40 79 86 77 66 98 16\n",
      " 81 84]\n",
      "Mean : 54.74\n",
      "\n",
      "Median : 58.5\n",
      "\n",
      "standard deviation : 29.106569705137016\n"
     ]
    }
   ],
   "source": [
    "arr=np.random.randint(1,100,50)\n",
    "print(arr)\n",
    "\n",
    "print(\"Mean :\",np.mean(arr))\n",
    "print()\n",
    "print(\"Median :\",np.median(arr))\n",
    "print()\n",
    "print(\"standard deviation :\",np.std(arr))"
   ]
  },
  {
   "cell_type": "code",
   "execution_count": 104,
   "id": "4900e295-ea31-4d83-b564-df011372b59a",
   "metadata": {},
   "outputs": [
    {
     "name": "stdout",
     "output_type": "stream",
     "text": [
      "[1 2 2 3 4 4 5]\n",
      "\n",
      "Unique element [1 2 3 4 5]\n"
     ]
    }
   ],
   "source": [
    "arr = np.array([1, 2, 2, 3, 4, 4, 5])\n",
    "print(arr)\n",
    "print()\n",
    "print(\"Unique element\",np.unique(arr))"
   ]
  },
  {
   "cell_type": "code",
   "execution_count": 124,
   "id": "add7ef5a-f563-42f6-a873-b56eacae95ca",
   "metadata": {},
   "outputs": [
    {
     "name": "stdout",
     "output_type": "stream",
     "text": [
      "[  1   2   2   3   9  11  13  42  55 135 145]\n",
      "\n",
      "[145 135  55  42  13  11   9   3   2   2   1]\n"
     ]
    }
   ],
   "source": [
    "arr=np.array([1,2,3,42,135,145,11,2,9,13,55])\n",
    "arr1=np.sort(arr)\n",
    "arr2=np.sort(arr)[::-1]\n",
    "print(arr1)\n",
    "print()\n",
    "print(arr2)"
   ]
  },
  {
   "cell_type": "code",
   "execution_count": 132,
   "id": "864c26d7-b495-46cc-b247-dc9a9edfb26a",
   "metadata": {},
   "outputs": [
    {
     "name": "stdout",
     "output_type": "stream",
     "text": [
      "Original Array \n",
      " [[1 2 3]\n",
      " [4 5 6]\n",
      " [7 8 9]]\n",
      "\n",
      "1D Array \n",
      " [1 2 3]\n",
      "\n",
      "Result after broadcasting\n",
      " [[ 2  4  6]\n",
      " [ 5  7  9]\n",
      " [ 8 10 12]]\n"
     ]
    }
   ],
   "source": [
    "arr1=np.array([[1,2,3],[4,5,6],[7,8,9]])\n",
    "arr2=np.array([1,2,3])\n",
    "\n",
    "arr_new=arr1+arr2\n",
    "\n",
    "print(\"Original Array \\n\",arr1)\n",
    "print()\n",
    "print(\"1D Array \\n\",arr2)\n",
    "print()\n",
    "print(\"Result after broadcasting\\n\",arr1+arr2)\n"
   ]
  },
  {
   "cell_type": "code",
   "execution_count": 140,
   "id": "007796c8-01d4-4056-b26f-d8f3c1dab2a3",
   "metadata": {},
   "outputs": [
    {
     "name": "stdout",
     "output_type": "stream",
     "text": [
      "[20 40]\n"
     ]
    }
   ],
   "source": [
    "arr = np.array([10, 20, 30, 40, 50])\n",
    "arr_new=arr[1::+2]\n",
    "print(arr_new)\n"
   ]
  },
  {
   "cell_type": "code",
   "execution_count": 204,
   "id": "ac6b202f-a990-4ab6-99a3-3d18a25e9c53",
   "metadata": {},
   "outputs": [
    {
     "name": "stdout",
     "output_type": "stream",
     "text": [
      "[[ 1  2  3  5]\n",
      " [ 4  5  6  6]\n",
      " [ 6  7  8  9]\n",
      " [12 10 11 12]] \n",
      "\n",
      "Digonal value [ 1  5  8 12]\n",
      "\n",
      "The compute of the diagonal:  26\n"
     ]
    }
   ],
   "source": [
    "arr=np.array([[1,2,3,5],[4,5,6,6],[6,7,8,9],[12,10,11,12]])\n",
    "print(arr,\"\\n\")\n",
    "\n",
    "compute=0\n",
    "j=0\n",
    "\n",
    "for i in range(0,4):\n",
    "    compute+=arr[i,j]\n",
    "    j+=1\n",
    "print(\"Digonal value\",np.diagonal(arr))\n",
    "print()\n",
    "print(\"The compute of the diagonal: \",compute)"
   ]
  },
  {
   "cell_type": "code",
   "execution_count": 174,
   "id": "cdc72998-7a74-4f92-b718-e0768fe16cae",
   "metadata": {},
   "outputs": [
    {
     "name": "stdout",
     "output_type": "stream",
     "text": [
      "[[1. 0. 0. 0.]\n",
      " [0. 1. 0. 0.]\n",
      " [0. 0. 1. 0.]\n",
      " [0. 0. 0. 1.]]\n",
      "diagonal Elemnet: [1. 1. 1. 1.]\n"
     ]
    }
   ],
   "source": [
    "arr=np.eye(4)\n",
    "print(arr)\n",
    "\n",
    "arr_new=np.diagonal(arr)\n",
    "print(\"diagonal Elemnet:\",arr_new)"
   ]
  },
  {
   "cell_type": "code",
   "execution_count": 226,
   "id": "16d705c6-2923-419d-ac0b-3e5d28126df9",
   "metadata": {},
   "outputs": [
    {
     "name": "stdout",
     "output_type": "stream",
     "text": [
      "[ 1  2  3  5  4  5  6  6  6  7  8  9 12 10 11 12]\n",
      "\n",
      "[[ 1  2  3  5]\n",
      " [ 4  5  6  6]\n",
      " [ 6  7  8  9]\n",
      " [12 10 11 12]]\n",
      "\n",
      "[[ 1  2  3  5  4  5  6  6]\n",
      " [ 6  7  8  9 12 10 11 12]]\n",
      "\n",
      "[[ 1  2]\n",
      " [ 3  5]\n",
      " [ 4  5]\n",
      " [ 6  6]\n",
      " [ 6  7]\n",
      " [ 8  9]\n",
      " [12 10]\n",
      " [11 12]]\n"
     ]
    }
   ],
   "source": [
    "arr=np.array([[1,2,3,5],[4,5,6,6],[6,7,8,9],[12,10,11,12]])\n",
    "print(arr.reshape(-1))\n",
    "print()\n",
    "print(arr.reshape(4,4))\n",
    "print()\n",
    "print(arr.reshape(2,8))\n",
    "print()\n",
    "print(arr.reshape(8,2))"
   ]
  },
  {
   "cell_type": "code",
   "execution_count": null,
   "id": "903da9ba-cee1-4912-b3e7-aef7028d3fe7",
   "metadata": {},
   "outputs": [],
   "source": []
  }
 ],
 "metadata": {
  "kernelspec": {
   "display_name": "Python 3 (ipykernel)",
   "language": "python",
   "name": "python3"
  },
  "language_info": {
   "codemirror_mode": {
    "name": "ipython",
    "version": 3
   },
   "file_extension": ".py",
   "mimetype": "text/x-python",
   "name": "python",
   "nbconvert_exporter": "python",
   "pygments_lexer": "ipython3",
   "version": "3.12.7"
  }
 },
 "nbformat": 4,
 "nbformat_minor": 5
}
