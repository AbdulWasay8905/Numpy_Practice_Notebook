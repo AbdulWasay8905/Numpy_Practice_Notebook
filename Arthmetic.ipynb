{
 "cells": [
  {
   "cell_type": "markdown",
   "id": "971ec5f0-91e9-4000-a694-d5d60905a901",
   "metadata": {},
   "source": [
    "# Arthmetic Operation"
   ]
  },
  {
   "cell_type": "code",
   "execution_count": 16,
   "id": "fee1a538-eb6f-466b-8654-52da468cb287",
   "metadata": {},
   "outputs": [
    {
     "name": "stdout",
     "output_type": "stream",
     "text": [
      "[4 5 6 7 8]\n"
     ]
    }
   ],
   "source": [
    "import numpy as np\n",
    "var =np.array([1,2,3,4,5])\n",
    "var_add=var+3\n",
    "print(var_add)"
   ]
  },
  {
   "cell_type": "code",
   "execution_count": 18,
   "id": "47968d45-65f9-48d7-bb07-162454019c08",
   "metadata": {},
   "outputs": [
    {
     "name": "stdout",
     "output_type": "stream",
     "text": [
      "[-2 -1  0  1  2]\n"
     ]
    }
   ],
   "source": [
    "var1 =np.array([1,2,3,4,5])\n",
    "var_sub=var1-3\n",
    "print(var_sub)"
   ]
  },
  {
   "cell_type": "markdown",
   "id": "33e5bd35-c00d-408a-9d02-76046453134d",
   "metadata": {},
   "source": [
    "var2=np.array([1,2,3,4])\n",
    "var3=np.array([1,2,3,4])\n",
    "arr_add=np.add(var2,var3)\n",
    "\n",
    "print(arr_add)"
   ]
  },
  {
   "cell_type": "code",
   "execution_count": 24,
   "id": "e019b7ca-a8d2-4269-852f-13f2c54f5afb",
   "metadata": {},
   "outputs": [
    {
     "name": "stdout",
     "output_type": "stream",
     "text": [
      "[-4  0 -1 -4]\n"
     ]
    }
   ],
   "source": [
    "var4=np.array([1,2,3,4])\n",
    "var5=np.array([5,2,4,8])\n",
    "arr_sub=var4-var5\n",
    "\n",
    "print(arr_sub)"
   ]
  },
  {
   "cell_type": "code",
   "execution_count": 26,
   "id": "e6133d74-bb18-4c28-b5dd-4c76819ed8a5",
   "metadata": {},
   "outputs": [
    {
     "name": "stdout",
     "output_type": "stream",
     "text": [
      "[0.33333333 0.66666667 1.         1.33333333 1.66666667]\n"
     ]
    }
   ],
   "source": [
    "var=np.array([1,2,3,4,5])\n",
    "arr_div=var/3\n",
    "\n",
    "print(arr_div)"
   ]
  },
  {
   "cell_type": "code",
   "execution_count": 32,
   "id": "ef0affda-af13-40f6-a88a-9a823559bff6",
   "metadata": {},
   "outputs": [
    {
     "name": "stdout",
     "output_type": "stream",
     "text": [
      "[1 2 0 1 2 0 1 2 0 1]\n"
     ]
    }
   ],
   "source": [
    "var=np.array([1,2,3,4,5,6,7,8,9,10])\n",
    "arr_mod=var%3\n",
    "\n",
    "print(arr_mod)"
   ]
  },
  {
   "cell_type": "markdown",
   "id": "82f30f84-fb2c-409f-884b-004079e2f2ee",
   "metadata": {},
   "source": [
    "# 2d array"
   ]
  },
  {
   "cell_type": "code",
   "execution_count": 57,
   "id": "684a5a85-843b-4fb0-8a11-25477610e7f2",
   "metadata": {},
   "outputs": [
    {
     "name": "stdout",
     "output_type": "stream",
     "text": [
      "[[ 5  6  7  8  9]\n",
      " [10 11 12 13 14]]\n"
     ]
    }
   ],
   "source": [
    "\n",
    "var2d=np.array([[1,2,3,4,5],[6,7,8,9,10]])\n",
    "arr2d_add=np.add(var2d,4)\n",
    "\n",
    "print(arr2d_add)"
   ]
  },
  {
   "cell_type": "code",
   "execution_count": 59,
   "id": "4ecc2020-1dc0-4f47-911c-8672ab306942",
   "metadata": {},
   "outputs": [
    {
     "name": "stdout",
     "output_type": "stream",
     "text": [
      "[[-3 -2 -1  0  1]\n",
      " [ 2  3  4  5  6]]\n"
     ]
    }
   ],
   "source": [
    "var2d=np.array([[1,2,3,4,5],[6,7,8,9,10]])\n",
    "arr2d_sub=np.subtract(var2d,4)\n",
    "\n",
    "print(arr2d_sub)"
   ]
  },
  {
   "cell_type": "code",
   "execution_count": 61,
   "id": "fbac7344-37b2-4345-b20b-126cdd276699",
   "metadata": {},
   "outputs": [
    {
     "name": "stdout",
     "output_type": "stream",
     "text": [
      "[[ 4  8 12 16 20]\n",
      " [24 28 32 36 40]]\n"
     ]
    }
   ],
   "source": [
    "var2d=np.array([[1,2,3,4,5],[6,7,8,9,10]])\n",
    "arr2d_mul=np.multiply(var2d,4)\n",
    "\n",
    "print(arr2d_mul)"
   ]
  },
  {
   "cell_type": "code",
   "execution_count": 63,
   "id": "1d5427c5-e6b6-4cb7-a126-dae14f2ae4ca",
   "metadata": {},
   "outputs": [
    {
     "name": "stdout",
     "output_type": "stream",
     "text": [
      "[[    1    16    81   256   625]\n",
      " [ 1296  2401  4096  6561 10000]]\n",
      "\n",
      "[[    1    16    81   256   625]\n",
      " [ 1296  2401  4096  6561 10000]]\n"
     ]
    }
   ],
   "source": [
    "var2d=np.array([[1,2,3,4,5],[6,7,8,9,10]])\n",
    "arr2d_pow=np.power(var2d,4)\n",
    "arr2d=var2d**4\n",
    "print(arr2d)\n",
    "print()\n",
    "print(arr2d_pow)"
   ]
  },
  {
   "cell_type": "code",
   "execution_count": 65,
   "id": "f6c2adc5-0fd9-49e6-8561-419c07da9288",
   "metadata": {},
   "outputs": [
    {
     "name": "stdout",
     "output_type": "stream",
     "text": [
      "[[ 2  4  6  8 14]\n",
      " [11 13 15 17 11]]\n"
     ]
    }
   ],
   "source": [
    "var2d=np.array([[1,2,3,4,5],[6,7,8,9,10]])\n",
    "var2D=np.array([[1,2,3,4,9],[5,6,7,8,1]])\n",
    "\n",
    "arr2d_add=np.add(var2d,var2D)\n",
    "print(arr2d_add)"
   ]
  },
  {
   "cell_type": "code",
   "execution_count": null,
   "id": "8bcd1076-6004-4fc9-a235-9f33d791dda4",
   "metadata": {},
   "outputs": [],
   "source": []
  }
 ],
 "metadata": {
  "kernelspec": {
   "display_name": "Python 3 (ipykernel)",
   "language": "python",
   "name": "python3"
  },
  "language_info": {
   "codemirror_mode": {
    "name": "ipython",
    "version": 3
   },
   "file_extension": ".py",
   "mimetype": "text/x-python",
   "name": "python",
   "nbconvert_exporter": "python",
   "pygments_lexer": "ipython3",
   "version": "3.12.7"
  }
 },
 "nbformat": 4,
 "nbformat_minor": 5
}
