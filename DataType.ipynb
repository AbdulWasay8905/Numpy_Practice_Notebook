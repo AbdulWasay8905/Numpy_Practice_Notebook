{
 "cells": [
  {
   "cell_type": "markdown",
   "id": "c56ae765-d7b2-436a-9383-fc770fccdf8c",
   "metadata": {},
   "source": [
    "Data Type"
   ]
  },
  {
   "cell_type": "code",
   "execution_count": 6,
   "id": "425d8f24-c592-4f9f-abd9-5bdd4f0d5884",
   "metadata": {},
   "outputs": [
    {
     "name": "stdout",
     "output_type": "stream",
     "text": [
      "Data type : int32\n"
     ]
    }
   ],
   "source": [
    "import numpy as np\n",
    "\n",
    "arr=np.array([1,2,3,4,5])\n",
    "print(f\"Data type : {arr.dtype}\")"
   ]
  },
  {
   "cell_type": "code",
   "execution_count": 8,
   "id": "70e26671-8f94-49a4-aff8-b07c3e3576c6",
   "metadata": {},
   "outputs": [
    {
     "name": "stdout",
     "output_type": "stream",
     "text": [
      "Data type : float64\n"
     ]
    }
   ],
   "source": [
    "arr=np.array([1.2,2.3,3.8,4.1,5.0])\n",
    "print(f\"Data type : {arr.dtype}\")"
   ]
  },
  {
   "cell_type": "code",
   "execution_count": 10,
   "id": "34ff12bc-d682-48b9-8ea8-a5832c23ed01",
   "metadata": {},
   "outputs": [
    {
     "name": "stdout",
     "output_type": "stream",
     "text": [
      "Data type : <U1\n"
     ]
    }
   ],
   "source": [
    "arr=np.array([\"a\",\"b\",\"c\",\"d\",\"e\"])\n",
    "print(f\"Data type : {arr.dtype}\")\n"
   ]
  },
  {
   "cell_type": "code",
   "execution_count": 12,
   "id": "85f5b1cf-393c-4628-bd1e-950593e910c9",
   "metadata": {},
   "outputs": [
    {
     "name": "stdout",
     "output_type": "stream",
     "text": [
      "Data type : <U11\n"
     ]
    }
   ],
   "source": [
    "arr=np.array([\"a\",\"b\",\"c\",\"d\",\"e\",1,2,3,4])\n",
    "print(f\"Data type : {arr.dtype}\")"
   ]
  },
  {
   "cell_type": "code",
   "execution_count": 16,
   "id": "0a56ed3d-8e2c-4f73-a676-a30686f5ed65",
   "metadata": {},
   "outputs": [
    {
     "name": "stdout",
     "output_type": "stream",
     "text": [
      "Data Type: int8\n"
     ]
    }
   ],
   "source": [
    "x=np.array([1,2,3,4,5],dtype=np.int8)\n",
    "\n",
    "print(f\"Data Type: {x.dtype}\")"
   ]
  },
  {
   "cell_type": "code",
   "execution_count": 32,
   "id": "a2cb0d46-0c6a-4e92-98e7-8993bd8e4bf7",
   "metadata": {},
   "outputs": [
    {
     "name": "stdout",
     "output_type": "stream",
     "text": [
      "Data Type: |S1\n"
     ]
    }
   ],
   "source": [
    "x=np.array([1,2,3,4,5],dtype=\"S\")\n",
    "\n",
    "print(f\"Data Type: {x.dtype}\")"
   ]
  },
  {
   "cell_type": "code",
   "execution_count": 44,
   "id": "8331ed7d-5689-4888-9a2c-0287c603fc2e",
   "metadata": {},
   "outputs": [
    {
     "name": "stdout",
     "output_type": "stream",
     "text": [
      "Data Type: int32\n",
      "Data Type: float32\n",
      "[1 2 3 4 5]\n",
      "[1. 2. 3. 4. 5.]\n"
     ]
    }
   ],
   "source": [
    "x=np.array([1,2,3,4,5])\n",
    "new=np.float32(x)\n",
    "print(f\"Data Type: {x.dtype}\")\n",
    "print(f\"Data Type: {new.dtype}\")\n",
    "print(x)\n",
    "print(new)\n",
    "\n"
   ]
  },
  {
   "cell_type": "code",
   "execution_count": 42,
   "id": "929fd889-ce4f-4f2a-8f13-dc331314e3ce",
   "metadata": {},
   "outputs": [
    {
     "name": "stdout",
     "output_type": "stream",
     "text": [
      "Data Type: int32\n",
      "Data Type: int32\n",
      "[1 2 3 4 5]\n",
      "[1 2 3 4 5]\n"
     ]
    }
   ],
   "source": [
    "x=np.array([1,2,3,4,5])\n",
    "new=np.int_(new)\n",
    "print(f\"Data Type: {x.dtype}\")\n",
    "print(f\"Data Type: {new.dtype}\")\n",
    "\n",
    "print(x)\n",
    "print(new)"
   ]
  },
  {
   "cell_type": "code",
   "execution_count": null,
   "id": "44d80b60-9d8f-4b1a-a722-cdcf05a42be0",
   "metadata": {},
   "outputs": [],
   "source": []
  }
 ],
 "metadata": {
  "kernelspec": {
   "display_name": "Python 3 (ipykernel)",
   "language": "python",
   "name": "python3"
  },
  "language_info": {
   "codemirror_mode": {
    "name": "ipython",
    "version": 3
   },
   "file_extension": ".py",
   "mimetype": "text/x-python",
   "name": "python",
   "nbconvert_exporter": "python",
   "pygments_lexer": "ipython3",
   "version": "3.12.7"
  }
 },
 "nbformat": 4,
 "nbformat_minor": 5
}
